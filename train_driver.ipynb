{
 "cells": [
  {
   "cell_type": "code",
   "execution_count": null,
   "metadata": {
    "collapsed": true
   },
   "outputs": [],
   "source": [
    "import os\n",
    "import pathlib\n",
    "import logging\n",
    "import time\n",
    "import datetime as dt\n",
    "\n",
    "from azureml.core import Workspace, Experiment, Environment, Datastore, Dataset, ComputeTarget\n",
    "from azureml.core.conda_dependencies import CondaDependencies\n",
    "from azureml.core.runconfig import RunConfiguration\n",
    "from azureml.data.data_reference import DataReference\n",
    "from azureml.core.runconfig import EggLibrary\n",
    "from azureml.core.databricks import PyPiLibrary\n",
    "from azureml.data import TabularDataset, FileDataset, OutputFileDatasetConfig\n",
    "from azureml.pipeline.core import Pipeline, PipelineParameter, PipelineData, PipelineRun, PublishedPipeline, PortDataReference, StepRun, TrainingOutput\n",
    "from azureml.pipeline.steps import DatabricksStep, PythonScriptStep, AutoMLStep\n",
    "from azureml.widgets import RunDetails"
   ]
  },
  {
   "cell_type": "code",
   "execution_count": null,
   "outputs": [],
   "source": [
    "workspace = Workspace.from_config(\"conf/azure_config.json\")\n",
    "datastore = Datastore.get(workspace, \"sten_blobstore\")\n",
    "compute_target = ComputeTarget(workspace=workspace, name=\"npedignc12amlc01\")"
   ],
   "metadata": {
    "collapsed": false,
    "pycharm": {
     "name": "#%%\n"
    }
   }
  },
  {
   "cell_type": "code",
   "execution_count": null,
   "outputs": [],
   "source": [
    "def get_or_create_env(ws, env_name, conda_packages, pip_packages, version=None):\n",
    "    \"\"\"\n",
    "    Gets the environment from the workspace. If environment is not found, creates a new environment.\n",
    "    :param ws: Azure ML workspace containing the environment\n",
    "    :param env_name: name of environment\n",
    "    :param conda_packages: conda packages required for creating environment\n",
    "    :param pip_packages: pip packages required for creating environment\n",
    "    :param version: specific version of environment to get or create\n",
    "    :return The registered environment\n",
    "    \"\"\"\n",
    "    try:\n",
    "        env = Environment.get(ws, env_name, version=version)\n",
    "        print('Environment ' + env_name + ' found!')\n",
    "    except Exception as e:\n",
    "        print(\"Environment %s not found, creating it\", env_name)\n",
    "        env = Environment(env_name)\n",
    "        packages = CondaDependencies.create(conda_packages=conda_packages,\n",
    "                                            pip_packages=pip_packages)\n",
    "        env.python.conda_dependencies = packages\n",
    "        env.register(workspace=ws)\n",
    "\n",
    "    reg_env = Environment.get(ws, env_name)\n",
    "    return reg_env"
   ],
   "metadata": {
    "collapsed": false,
    "pycharm": {
     "name": "#%%\n"
    }
   }
  },
  {
   "cell_type": "code",
   "execution_count": null,
   "outputs": [],
   "source": [
    "conda_packages = [\n",
    "    'python=3.7.10',\n",
    "    \"scikit-learn\",\n",
    "    \"scipy\",\n",
    "    \"pandas\",\n",
    "    \"pip\",\n",
    "    \"matplotlib\",\n",
    "]\n",
    "pip_packages = [\n",
    "    \"azureml-defaults\",\n",
    "    \"azureml-dataprep[pandas]\",\n",
    "    \"setuptools\",\n",
    "    \"wheel\",\n",
    "    \"joblib\",\n",
    "    \"pyarrow\",\n",
    "    \"numpy<=1.18.5\",\n",
    "    \"Pillow\",\n",
    "    \"pyarrow\",\n",
    "    \"imageio\",\n",
    "    \"opencv-python\",\n",
    "    \"sklearn\",\n",
    "    \"seaborn\",\n",
    "    \"click==7.1.2\",\n",
    "    \"torch==1.10.0\",\n",
    "    \"torchvision==0.11.0\",\n",
    "    \"pycocotools\",\n",
    "]"
   ],
   "metadata": {
    "collapsed": false,
    "pycharm": {
     "name": "#%%\n"
    }
   }
  },
  {
   "cell_type": "code",
   "execution_count": null,
   "outputs": [],
   "source": [
    "curr_dir = os.getcwd()"
   ],
   "metadata": {
    "collapsed": false,
    "pycharm": {
     "name": "#%%\n"
    }
   }
  },
  {
   "cell_type": "code",
   "execution_count": null,
   "outputs": [],
   "source": [
    "whl_url = Environment.add_private_pip_wheel(\n",
    "    workspace=workspace,\n",
    "    file_path = os.path.join(curr_dir, \"dist/apple_seg-0.0.1-py3-none-any.whl\"),\n",
    "    exist_ok=True)\n",
    "print(f\"oip_whl_url: {whl_url}\")"
   ],
   "metadata": {
    "collapsed": false,
    "pycharm": {
     "name": "#%%\n"
    }
   }
  },
  {
   "cell_type": "code",
   "execution_count": null,
   "outputs": [],
   "source": [
    "env = get_or_create_env(workspace, \"cv_train\", conda_packages, pip_packages, version=\"5\")"
   ],
   "metadata": {
    "collapsed": false,
    "pycharm": {
     "name": "#%%\n"
    }
   }
  },
  {
   "cell_type": "code",
   "execution_count": null,
   "outputs": [],
   "source": [
    "conda_dep = env.python.conda_dependencies\n",
    "conda_dep.add_pip_package(whl_url)\n",
    "env.python.conda_dependencies = conda_dep\n"
   ],
   "metadata": {
    "collapsed": false,
    "pycharm": {
     "name": "#%%\n"
    }
   }
  },
  {
   "cell_type": "code",
   "execution_count": null,
   "outputs": [],
   "source": [
    "pipeline_run_config = RunConfiguration()\n",
    "pipeline_run_config.target = compute_target\n",
    "pipeline_run_config.environment = env"
   ],
   "metadata": {
    "collapsed": false,
    "pycharm": {
     "name": "#%%\n"
    }
   }
  },
  {
   "cell_type": "code",
   "execution_count": null,
   "outputs": [],
   "source": [
    "epochs = 64\n",
    "lr = \"1e-3\"\n",
    "batch = 3\n",
    "arch_type = \"fcn\"\n",
    "backbone = \"resnet50\"\n",
    "pretrained = True\n",
    "\n",
    "model_name = f\"{arch_type}_{backbone}\"\n",
    "model = PipelineParameter('model', model_name)\n",
    "data_path: FileDataset = Dataset.File.from_files(path=(datastore, os.path.join('Dataset', 'MinneApple', 'detection')))\n",
    "\n",
    "output_dir_name = f\"lr{lr}_b{str(batch)}_ep{str(epochs)}\"\n",
    "ds_path = os.path.join(\"Models\", model_name, \"Pretrained\" if pretrained else \"Not_Pretrained\", output_dir_name)\n",
    "output_dir = OutputFileDatasetConfig(\n",
    "    name=\"output_dir\",\n",
    "    destination=(datastore, ds_path))\\\n",
    "    .as_upload(overwrite=True)\n"
   ],
   "metadata": {
    "collapsed": false,
    "pycharm": {
     "name": "#%%\n"
    }
   }
  },
  {
   "cell_type": "code",
   "execution_count": null,
   "outputs": [],
   "source": [
    "train_step = PythonScriptStep(\n",
    "    name=\"train model\",\n",
    "    source_directory='.',\n",
    "    script_name=\"train_fcn.py\",\n",
    "    arguments=[\n",
    "        '--model', model,\n",
    "        '--data_path', data_path.as_named_input(\"data_path\").as_mount(),\n",
    "        '--output-dir', output_dir,\n",
    "        '--epochs', epochs,\n",
    "        '--lr', float(lr),\n",
    "        '--batch-size', batch,\n",
    "        '--pretrained',\n",
    "        '--device', \"cuda:1\"\n",
    "        ],\n",
    "    outputs=[output_dir],\n",
    "    compute_target=compute_target,\n",
    "    runconfig=pipeline_run_config,\n",
    "    allow_reuse=False\n",
    "    )"
   ],
   "metadata": {
    "collapsed": false,
    "pycharm": {
     "name": "#%%\n"
    }
   }
  },
  {
   "cell_type": "code",
   "execution_count": null,
   "outputs": [],
   "source": [
    "experiment = Experiment(workspace=workspace, name=\"app_seg\")\n",
    "pipeline = Pipeline(workspace=workspace, steps=[train_step])\n",
    "pipeline_run = experiment.submit(pipeline, regenerate_outputs=True)\n",
    "RunDetails(pipeline_run).show()"
   ],
   "metadata": {
    "collapsed": false,
    "pycharm": {
     "name": "#%%\n"
    }
   }
  },
  {
   "cell_type": "code",
   "execution_count": null,
   "outputs": [],
   "source": [
    "pipeline_run.wait_for_completion(show_output=True)\n"
   ],
   "metadata": {
    "collapsed": false,
    "pycharm": {
     "name": "#%%\n",
     "is_executing": true
    }
   }
  },
  {
   "cell_type": "code",
   "execution_count": null,
   "outputs": [],
   "source": [],
   "metadata": {
    "collapsed": false,
    "pycharm": {
     "name": "#%%\n"
    }
   }
  }
 ],
 "metadata": {
  "kernelspec": {
   "display_name": "Python 3",
   "language": "python",
   "name": "python3"
  },
  "language_info": {
   "codemirror_mode": {
    "name": "ipython",
    "version": 2
   },
   "file_extension": ".py",
   "mimetype": "text/x-python",
   "name": "python",
   "nbconvert_exporter": "python",
   "pygments_lexer": "ipython2",
   "version": "2.7.6"
  }
 },
 "nbformat": 4,
 "nbformat_minor": 0
}